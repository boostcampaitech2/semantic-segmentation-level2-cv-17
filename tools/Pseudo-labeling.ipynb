{
 "cells": [
  {
   "cell_type": "code",
   "execution_count": 1,
   "metadata": {},
   "outputs": [],
   "source": [
    "import pandas as pd\n",
    "import numpy as np\n",
    "import cv2\n",
    "import matplotlib.pyplot as plt\n",
    "from matplotlib.patches import Patch\n",
    "%matplotlib inline"
   ]
  },
  {
   "cell_type": "code",
   "execution_count": 2,
   "metadata": {},
   "outputs": [],
   "source": [
    "def decode(rle_mask):\n",
    "    # print(rle_mask)\n",
    "    mask = rle_mask.split()\n",
    "    # print(mask)\n",
    "    img = np.zeros(256*256, dtype=np.uint8)\n",
    "    for i, m, in enumerate(mask):\n",
    "        img[i] = int(m)\n",
    "    return img.reshape(256,256)\n"
   ]
  },
  {
   "cell_type": "code",
   "execution_count": 4,
   "metadata": {},
   "outputs": [
    {
     "data": {
      "text/plain": [
       "<Figure size 1080x1080 with 0 Axes>"
      ]
     },
     "metadata": {},
     "output_type": "display_data"
    }
   ],
   "source": [
    "\n",
    "df = pd.read_csv('/opt/ml/segmentation/mmsegmentation/submission/upernet_swin_large_80k_submission_latest.csv')\n",
    "test_path = '/opt/ml/segmentation/input/data/test/img/'\n",
    "img_path = '/opt/ml/segmentation/input/data/pseudo/img/'\n",
    "ann_path = \"/opt/ml/segmentation/input/data/pseudo/ann/\"\n",
    "plt.figure(figsize=(15,15))\n",
    "plt.subplots_adjust(bottom=0.2, top=0.8, hspace=0.2) \n",
    "for i in range(len(df)):      \n",
    "    decoded_mask = decode(df.loc[i,'PredictionString'])\n",
    "    decoded_mask = cv2.resize(decoded_mask, (512,512), interpolation=cv2.INTER_NEAREST)\n",
    "    orig_img = cv2.imread(test_path+f'{i}.jpg')\n",
    "    \n",
    "    cv2.imwrite(img_path+f'{3272+i}.jpg', orig_img)\n",
    "    cv2.imwrite(ann_path+f'{3272+i}.png', decoded_mask)"
   ]
  },
  {
   "cell_type": "code",
   "execution_count": 18,
   "metadata": {},
   "outputs": [
    {
     "name": "stdout",
     "output_type": "stream",
     "text": [
      "3\n",
      "d\n"
     ]
    }
   ],
   "source": [
    "print(3)\n",
    "a = input()\n",
    "print(a)"
   ]
  }
 ],
 "metadata": {
  "interpreter": {
   "hash": "d36e052b391be8c28b05838ade06426769a29575d5fe21a7bc69c7dec0c04c06"
  },
  "kernelspec": {
   "display_name": "Python 3.7.11 64-bit ('segmentation': conda)",
   "name": "python3"
  },
  "language_info": {
   "codemirror_mode": {
    "name": "ipython",
    "version": 3
   },
   "file_extension": ".py",
   "mimetype": "text/x-python",
   "name": "python",
   "nbconvert_exporter": "python",
   "pygments_lexer": "ipython3",
   "version": "3.7.11"
  },
  "orig_nbformat": 4
 },
 "nbformat": 4,
 "nbformat_minor": 2
}
