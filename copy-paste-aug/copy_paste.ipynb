{
 "cells": [
  {
   "cell_type": "markdown",
   "metadata": {},
   "source": [
    "# Example Usage\n",
    "\n",
    "This is a basic example using the torchvision COCO dataset from coco.py, it assumes that you've already downloaded the COCO images and annotations JSON.  You'll notice that the scale augmentations are quite extreme."
   ]
  },
  {
   "cell_type": "code",
   "execution_count": 1,
   "metadata": {},
   "outputs": [],
   "source": [
    "import cv2\n",
    "import numpy as np\n",
    "from copy_paste import CopyPaste\n",
    "from coco import CocoDetectionCP\n",
    "from visualize import display_instances\n",
    "import albumentations as A\n",
    "import random\n",
    "from matplotlib import pyplot as plt\n",
    "%load_ext autoreload\n",
    "%autoreload 2\n",
    "%matplotlib inline"
   ]
  },
  {
   "cell_type": "code",
   "execution_count": 2,
   "metadata": {},
   "outputs": [
    {
     "name": "stdout",
     "output_type": "stream",
     "text": [
      "loading annotations into memory...\n",
      "Done (t=0.42s)\n",
      "creating index...\n",
      "index created!\n"
     ]
    }
   ],
   "source": [
    "transform = A.Compose([\n",
    "        A.RandomScale(scale_limit=(0.5, 1), p=1), #LargeScaleJitter from scale of 0.1 to 2\n",
    "        A.PadIfNeeded(512, 512, border_mode=0), #pads with image in the center, not the top left like the paper\n",
    "        # A.RandomCrop(256, 256),\n",
    "        A.Resize(512, 512),\n",
    "        CopyPaste(blend=True, sigma=1, pct_objects_paste=0.9, p=1.), #pct_objects_paste is a guess\n",
    "    ], bbox_params=A.BboxParams(format=\"coco\", min_visibility=0.05)\n",
    ")\n",
    "\n",
    "data = CocoDetectionCP(\n",
    "    './data/', \n",
    "    './data/train_cp.json', \n",
    "    transform\n",
    ")"
   ]
  },
  {
   "cell_type": "code",
   "execution_count": 3,
   "metadata": {
    "scrolled": false
   },
   "outputs": [],
   "source": [
    "# index = random.randint(0, len(data))\n",
    "for i in range(len(data)):\n",
    "    img_data = data[i]\n",
    "    image = img_data['image']\n",
    "    masks = img_data['masks']\n",
    "    bboxes = img_data['bboxes']\n",
    "    if len(bboxes) <= 0:\n",
    "        print(\"Not Exist Bbox\")\n",
    "        continue\n",
    "\n",
    "    # f, ax = plt.subplots(1, 2, figsize=(32, 32))\n",
    "    empty = np.array([])\n",
    "    display_instances(image, empty, empty, empty, empty, show_mask=False, show_bbox=False, ax=None, file_name = i)\n",
    "\n",
    "    boxes = np.stack([b[:4] for b in bboxes], axis=0)\n",
    "    box_classes = np.array([b[-2] for b in bboxes])\n",
    "    # print(box_classes)\n",
    "    mask_indices = np.array([b[-1] for b in bboxes])\n",
    "    show_masks = np.stack(masks, axis=-1)[..., mask_indices]\n",
    "    # print(np.unique(show_masks))\n",
    "    class_names = {k: data.coco.cats[k]['name'] for k in data.coco.cats.keys()}\n",
    "    display_instances(image, boxes, show_masks, box_classes, class_names, show_bbox=True, ax=None, file_name = i)"
   ]
  }
 ],
 "metadata": {
  "interpreter": {
   "hash": "c18c2ce2eeff7956326c52dfc6c88194418eebb74e6de9b69ae4a4f626458f80"
  },
  "kernelspec": {
   "display_name": "Python 3.8.8 64-bit ('base': conda)",
   "name": "python3"
  },
  "language_info": {
   "codemirror_mode": {
    "name": "ipython",
    "version": 3
   },
   "file_extension": ".py",
   "mimetype": "text/x-python",
   "name": "python",
   "nbconvert_exporter": "python",
   "pygments_lexer": "ipython3",
   "version": "3.8.8"
  }
 },
 "nbformat": 4,
 "nbformat_minor": 4
}
